{
 "cells": [
  {
   "cell_type": "code",
   "execution_count": 1,
   "metadata": {
    "collapsed": false,
    "deletable": true,
    "editable": true
   },
   "outputs": [],
   "source": [
    "import numpy as np\n",
    "import matplotlib.pyplot as plt\n",
    "%matplotlib inline\n",
    "import Image\n",
    "#from PIL import Image\n",
    "import caffe\n",
    "import sys\n",
    "\n",
    "# Make sure that caffe is on the python path:\n",
    "#caffe_root = '/usr/local/caffe'  # this file is expected to be in {caffe_root}/examples\n",
    "#import sys\n",
    "#sys.path.insert(0, caffe_root + 'python')\n",
    "\n",
    "#import caffe\n",
    "\n",
    "# configure plotting\n",
    "plt.rcParams['figure.figsize'] = (10, 10)\n",
    "plt.rcParams['image.interpolation'] = 'nearest'\n",
    "plt.rcParams['image.cmap'] = 'gray'"
   ]
  },
  {
   "cell_type": "code",
   "execution_count": 2,
   "metadata": {
    "collapsed": false,
    "deletable": true,
    "editable": true
   },
   "outputs": [
    {
     "name": "stdout",
     "output_type": "stream",
     "text": [
      "blobs ['data', 'conv1', 'pool1', 'conv2', 'pool2', 'conv3', 'pool3', 'conv_last', 'fc_class', 'prob']\n",
      "params ['conv1', 'conv2', 'conv3', 'conv_last', 'fc_class']\n",
      "blob data shape (1, 3, 32, 32)\n",
      "blob conv1 shape (1, 64, 28, 28)\n",
      "blob pool1 shape (1, 64, 14, 14)\n",
      "blob conv2 shape (1, 100, 12, 12)\n",
      "blob pool2 shape (1, 100, 6, 6)\n",
      "blob conv3 shape (1, 200, 4, 4)\n",
      "blob pool3 shape (1, 200, 2, 2)\n",
      "blob conv_last shape (1, 384, 2, 2)\n",
      "blob fc_class shape (1, 4)\n",
      "blob prob shape (1, 4)\n",
      "param conv1 shape (64, 3, 5, 5)\n",
      "param conv1 shape (64,)\n",
      "param conv2 shape (100, 64, 3, 3)\n",
      "param conv2 shape (100,)\n",
      "param conv3 shape (200, 100, 3, 3)\n",
      "param conv3 shape (200,)\n",
      "param conv_last shape (384, 200, 1, 1)\n",
      "param conv_last shape (384,)\n",
      "param fc_class shape (4, 1536)\n",
      "param fc_class shape (4,)\n"
     ]
    }
   ],
   "source": [
    "# Load the net, list its data and params, and filter an example image.\n",
    "caffe.set_mode_gpu()\n",
    "net = caffe.Net('./dvia_fpga_dump.prototxt', './dvia_trained.caffemodel', caffe.TEST)\n",
    "print(\"blobs {}\\nparams {}\".format(net.blobs.keys(), net.params.keys()))\n",
    "blobs = net.blobs.keys()\n",
    "for b in blobs:\n",
    "    shape = net.blobs[b].data.shape\n",
    "    print \"blob {} shape {}\".format(b, shape)\n",
    "\n",
    "params = net.params.keys()\n",
    "for p in params:\n",
    "    shape = net.params[p][0].data.shape\n",
    "    print \"param {} shape {}\".format(p, shape)\n",
    "    shape = net.params[p][1].data.shape\n",
    "    print \"param {} shape {}\".format(p, shape)\n",
    "    \n",
    "    "
   ]
  },
  {
   "cell_type": "markdown",
   "metadata": {
    "deletable": true,
    "editable": true
   },
   "source": [
    "## Designer Filters\n",
    "\n",
    "To show how to load, manipulate, and save parameters we'll design our own filters into a simple network that's only a single convolution layer. This net has two blobs, `data` for the input and `conv` for the convolution output and one parameter `conv` for the convolution filter weights and biases."
   ]
  },
  {
   "cell_type": "code",
   "execution_count": 3,
   "metadata": {
    "collapsed": false,
    "deletable": true,
    "editable": true
   },
   "outputs": [
    {
     "name": "stdout",
     "output_type": "stream",
     "text": [
      "im new shape: (3, 32, 32)\n",
      "None\n",
      "im_input shape: (1, 3, 32, 32)\n",
      "data blob shape: (1, 3, 32, 32)\n"
     ]
    },
    {
     "data": {
      "image/png": "[encoded data removed]",
      "text/plain": [
       "<matplotlib.figure.Figure at 0x7f54c982b210>"
      ]
     },
     "metadata": {},
     "output_type": "display_data"
    }
   ],
   "source": [
    "# Filter an example image.\n",
    "from scipy import misc\n",
    "caffe.set_mode_gpu()\n",
    "\n",
    "# load image and prepare as a single input batch for Caffe\n",
    "im = np.array(Image.open('../images/cat32x32.jpg'))\n",
    "im2 = misc.imresize(im, (32,32), interp='bicubic')/256.0\n",
    "imm = np.transpose(im2, (2, 0, 1))\n",
    "\n",
    "print \"im new shape: {}\".format(imm.shape)\n",
    "plt.title(\"original image\")\n",
    "plt.imshow(im)\n",
    "#plt.axis('off')\n",
    "\n",
    "print np.newaxis\n",
    "im_input = imm[np.newaxis, :, :]\n",
    "print \"im_input shape: {}\".format(im_input.shape)\n",
    "net.blobs['data'].reshape(*im_input.shape)\n",
    "net.blobs['data'].data[...] = im_input\n",
    "print \"data blob shape: {}\".format(net.blobs['data'].data.shape)\n"
   ]
  },
  {
   "cell_type": "markdown",
   "metadata": {
    "deletable": true,
    "editable": true
   },
   "source": [
    "The convolution weights are initialized from Gaussian noise while the biases are initialized to zero. These random filters give output somewhat like edge detections."
   ]
  },
  {
   "cell_type": "code",
   "execution_count": 4,
   "metadata": {
    "collapsed": false,
    "deletable": true,
    "editable": true
   },
   "outputs": [
    {
     "name": "stdout",
     "output_type": "stream",
     "text": [
      "blob data shape (1, 3, 32, 32)\n",
      "Create a file with name data_output.h\n",
      "<open file 'C_FILES/data_output.h', mode 'w' at 0x7f54c941e390>\n",
      "Done\n",
      "blob conv1 shape (1, 64, 28, 28)\n",
      "Create a file with name conv1_output.h\n",
      "<open file 'C_FILES/conv1_output.h', mode 'w' at 0x7f54c941e1e0>\n",
      "Done\n",
      "blob pool1 shape (1, 64, 14, 14)\n",
      "Create a file with name pool1_output.h\n",
      "<open file 'C_FILES/pool1_output.h', mode 'w' at 0x7f54c941e390>\n",
      "Done\n",
      "blob conv2 shape (1, 100, 12, 12)\n",
      "Create a file with name conv2_output.h\n",
      "<open file 'C_FILES/conv2_output.h', mode 'w' at 0x7f54c941e1e0>\n",
      "Done\n",
      "blob pool2 shape (1, 100, 6, 6)\n",
      "Create a file with name pool2_output.h\n",
      "<open file 'C_FILES/pool2_output.h', mode 'w' at 0x7f54c941e270>\n",
      "Done\n",
      "blob conv3 shape (1, 200, 4, 4)\n",
      "Create a file with name conv3_output.h\n",
      "<open file 'C_FILES/conv3_output.h', mode 'w' at 0x7f54c941e1e0>\n",
      "Done\n",
      "blob pool3 shape (1, 200, 2, 2)\n",
      "Create a file with name pool3_output.h\n",
      "<open file 'C_FILES/pool3_output.h', mode 'w' at 0x7f54c941e270>\n",
      "Done\n",
      "blob conv_last shape (1, 384, 2, 2)\n",
      "Create a file with name conv_last_output.h\n",
      "<open file 'C_FILES/conv_last_output.h', mode 'w' at 0x7f54c941e1e0>\n",
      "Done\n",
      "blob fc_class shape (1, 4)\n",
      "Create a file with name fc_class_output.h\n",
      "<open file 'C_FILES/fc_class_output.h', mode 'w' at 0x7f54c941e270>\n",
      "Done\n",
      "blob prob shape (1, 4)\n",
      "Create a file with name prob_output.h\n",
      "<open file 'C_FILES/prob_output.h', mode 'w' at 0x7f54c941e1e0>\n",
      "Done\n"
     ]
    }
   ],
   "source": [
    "### This block prints the layer outputs to files\n",
    "from sys import stdout\n",
    "net.forward()\n",
    "blobs = net.blobs.keys()\n",
    "for b in blobs:\n",
    "    shape = net.blobs[b].data.shape\n",
    "    print \"blob {} shape {}\".format(b, shape)\n",
    "    print \"Create a file with name {}_output.h\".format(b)\n",
    "    ic = open(\"C_FILES/{}_output.h\".format(b), 'w')\n",
    "    print ic\n",
    "    ic.write(\"float {}_output \".format(b))\n",
    "    for s in range(len(shape)):\n",
    "        ic.write(\"[{}]\".format(shape[s]))\n",
    "    ic.write(\" = \\n\")\n",
    "    for m in range(0,shape[0]):\n",
    "        ic.write(\"{\")\n",
    "        for n in range(0,shape[1]):\n",
    "            #ic.write(\"{\")\n",
    "            par = net.blobs[b].data[m][n]\n",
    "            if(len(shape) > 2):\n",
    "                for r in range(0,shape[2]):\n",
    "                    #ic.write(\"{\")\n",
    "                    if(len(shape) > 3):\n",
    "                        for c in range(0, shape[3]):\n",
    "                            comma = \",\" if (c<shape[3]-1) else \"\"\n",
    "                            ic.write(\"{:1.10f}{} \".format(par[r][c], comma))\n",
    "                        comma = \",\" if (r<shape[2]-1) else \"\"\n",
    "                        ic.write(\"%s\\n\"%(comma))\n",
    "            else: #if(len(shape) > 2)\n",
    "                ic.write(\"{:1.10f}\".format(par))\n",
    "            comma = \",\" if (n<shape[1]-1) else \"\"\n",
    "            ic.write(\"%s\\n\"%(comma))\n",
    "    ic.write(\"};\")\n",
    "    print \"Done\"\n",
    "    ic.close()\n"
   ]
  },
  {
   "cell_type": "code",
   "execution_count": 5,
   "metadata": {
    "collapsed": false,
    "deletable": true,
    "editable": true
   },
   "outputs": [
    {
     "name": "stdout",
     "output_type": "stream",
     "text": [
      "param conv1 shape (64, 3, 5, 5)\n",
      "Create a file with name conv1_weights.h\n",
      "<open file 'C_FILES/conv1_weights.h', mode 'w' at 0x7f54c941e4b0>\n",
      "Done\n",
      "param conv2 shape (100, 64, 3, 3)\n",
      "Create a file with name conv2_weights.h\n",
      "<open file 'C_FILES/conv2_weights.h', mode 'w' at 0x7f54c941e1e0>\n",
      "Done\n",
      "param conv3 shape (200, 100, 3, 3)\n",
      "Create a file with name conv3_weights.h\n",
      "<open file 'C_FILES/conv3_weights.h', mode 'w' at 0x7f54c941e390>\n",
      "Done\n",
      "param conv_last shape (384, 200, 1, 1)\n",
      "Create a file with name conv_last_weights.h\n",
      "<open file 'C_FILES/conv_last_weights.h', mode 'w' at 0x7f54c941e540>\n",
      "Done\n",
      "param fc_class shape (4, 1536)\n",
      "Create a file with name fc_class_weights.h\n",
      "<open file 'C_FILES/fc_class_weights.h', mode 'w' at 0x7f54c941e4b0>\n",
      "Done\n",
      "param conv1 shape (64,)\n",
      "Create a file with name conv1_bias.h\n",
      "<open file 'C_FILES/conv1_bias.h', mode 'w' at 0x7f54c941e540>\n",
      "Done\n",
      "param conv2 shape (100,)\n",
      "Create a file with name conv2_bias.h\n",
      "<open file 'C_FILES/conv2_bias.h', mode 'w' at 0x7f54c941e4b0>\n",
      "Done\n",
      "param conv3 shape (200,)\n",
      "Create a file with name conv3_bias.h\n",
      "<open file 'C_FILES/conv3_bias.h', mode 'w' at 0x7f54c941e540>\n",
      "Done\n",
      "param conv_last shape (384,)\n",
      "Create a file with name conv_last_bias.h\n",
      "<open file 'C_FILES/conv_last_bias.h', mode 'w' at 0x7f54c941e4b0>\n",
      "Done\n",
      "param fc_class shape (4,)\n",
      "Create a file with name fc_class_bias.h\n",
      "<open file 'C_FILES/fc_class_bias.h', mode 'w' at 0x7f54c941e540>\n",
      "Done\n"
     ]
    }
   ],
   "source": [
    "## This block will print weights and bias to files\n",
    "params = net.params.keys()\n",
    "\n",
    "## Weights ================>\n",
    "for p in params:\n",
    "    shape = net.params[p][0].data.shape\n",
    "    print \"param {} shape {}\".format(p, shape)\n",
    "    print \"Create a file with name {}_weights.h\".format(p)\n",
    "    ic = open(\"C_FILES/{}_weights.h\".format(p), 'w')\n",
    "    print ic\n",
    "    ic.write(\"float {}_weights \".format(p))\n",
    "    for s in range(len(shape)):\n",
    "        ic.write(\"[{}]\".format(shape[s]))\n",
    "    ic.write(\" = {\\n\")\n",
    "    for m in range(0,shape[0]):\n",
    "        #ic.write(\"{\")\n",
    "        for n in range(0,shape[1]):\n",
    "            #ic.write(\"{\")\n",
    "            par = net.params[p][0].data[m][n]\n",
    "            if(len(shape) > 2):\n",
    "                for r in range(0,shape[2]):\n",
    "                    #ic.write(\"{\")\n",
    "                    if(len(shape) > 3):\n",
    "                        for c in range(0, shape[3]):\n",
    "                            comma = \",\" if (c<shape[3]-1) else \"\"\n",
    "                            ic.write(\"{:1.10f}{} \".format(par[r][c], comma))\n",
    "                        comma = \",\" if (r<shape[2]-1) else \"\"\n",
    "                        ic.write(\"%s\\n\"%(comma))\n",
    "            else: #if(len(shape) > 2)\n",
    "                ic.write(\"{:1.10f}\".format(par))\n",
    "            comma = \",\" if (n<shape[1]-1) else \"\"\n",
    "            ic.write(\"%s\\n\"%(comma))\n",
    "        comma = \",\" if (m<shape[0]-1) else \"\"\n",
    "        ic.write(\"%s\\n\"%(comma))\n",
    "    ic.write(\"};\")\n",
    "    print \"Done\"\n",
    "    ic.close()\n",
    "\n",
    "## Bias =======================================>\n",
    "for p in params:\n",
    "    shape = net.params[p][1].data.shape\n",
    "    print \"param {} shape {}\".format(p, shape)\n",
    "    print \"Create a file with name {}_bias.h\".format(p)\n",
    "    ic = open(\"C_FILES/{}_bias.h\".format(p), 'w')\n",
    "    print ic\n",
    "    ic.write(\"float {}_bias \".format(p))\n",
    "    for s in range(len(shape)):\n",
    "        ic.write(\"[{}]\".format(shape[s]))\n",
    "    ic.write(\" = {\\n\")\n",
    "    for m in range(0,shape[0]):\n",
    "        if(len(shape) > 1):\n",
    "            for n in range(0,shape[1]):\n",
    "                #ic.write(\"{\")\n",
    "                par = net.params[p][1].data[m][n]\n",
    "                if(len(shape) > 2):\n",
    "                    for r in range(0,shape[2]):\n",
    "                        #ic.write(\"{\")\n",
    "                        if(len(shape) > 3):\n",
    "                            for c in range(0, shape[3]):\n",
    "                                comma = \",\" if (c<shape[3]-1) else \"\"\n",
    "                                ic.write(\"{:1.10f}{} \".format(par[r][c], comma))\n",
    "                            comma = \",\" if (r<shape[2]-1) else \"\"\n",
    "                            ic.write(\"%s\\n\"%(comma))\n",
    "                else: #if(len(shape) > 2)\n",
    "                    ic.write(\"{:1.10f}\".format(par))\n",
    "                comma = \",\" if (n<shape[1]-1) else \"\"\n",
    "                ic.write(\"%s\\n\"%(comma))\n",
    "        else: #if(len(shape) > 1)\n",
    "            par = net.params[p][1].data[m]\n",
    "            comma = \",\" if (m<shape[0]-1) else \"\"\n",
    "            ic.write(\"{:1.10f}{} \".format(par, comma))\n",
    "    ic.write(\"};\")\n",
    "    print \"Done\"\n",
    "    ic.close()    "
   ]
  },
  {
   "cell_type": "markdown",
   "metadata": {
    "deletable": true,
    "editable": true
   },
   "source": [
    "*A thank you to Rowland Depp for first suggesting this trick.*"
   ]
  },
  {
   "cell_type": "code",
   "execution_count": null,
   "metadata": {
    "collapsed": true,
    "deletable": true,
    "editable": true
   },
   "outputs": [],
   "source": []
  }
 ],
 "metadata": {
  "description": "How to do net surgery and manually change model parameters for custom use.",
  "example_name": "Editing model parameters",
  "include_in_docs": true,
  "kernelspec": {
   "display_name": "Python 2",
   "language": "python",
   "name": "python2"
  },
  "language_info": {
   "codemirror_mode": {
    "name": "ipython",
    "version": 2
   },
   "file_extension": ".py",
   "mimetype": "text/x-python",
   "name": "python",
   "nbconvert_exporter": "python",
   "pygments_lexer": "ipython2",
   "version": "2.7.12"
  },
  "priority": 5
 },
 "nbformat": 4,
 "nbformat_minor": 0
}
